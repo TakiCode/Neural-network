{
 "cells": [
  {
   "cell_type": "code",
   "execution_count": 1,
   "metadata": {},
   "outputs": [],
   "source": [
    "import numpy as np\n",
    "import matplotlib.pyplot as plt\n",
    "%matplotlib inline"
   ]
  },
  {
   "cell_type": "code",
   "execution_count": 2,
   "metadata": {},
   "outputs": [],
   "source": [
    "Basetrain = np.load(\"basetrain.npy\")\n",
    "Labeltrain = np.load(\"labeltrain.npy\")\n",
    "Basetest = np.load(\"basetest.npy\")\n",
    "Labeltest = np.load(\"labeltest.npy\")\n",
    "Basetrain = Basetrain.T\n",
    "Basetest = Basetest.T\n",
    "Basetrain = Basetrain / 255\n",
    "Basetest = Basetest / 255"
   ]
  },
  {
   "cell_type": "code",
   "execution_count": 3,
   "metadata": {},
   "outputs": [
    {
     "name": "stdout",
     "output_type": "stream",
     "text": [
      "Base d'apprentissage : 10000 exemples\n",
      "Base de test : 2000 exemples\n"
     ]
    }
   ],
   "source": [
    "print(\"Base d'apprentissage : {} exemples\".format(Basetrain.shape[0]))\n",
    "print(\"Base de test : {} exemples\".format(Basetest.shape[0]))"
   ]
  },
  {
   "cell_type": "code",
   "execution_count": 4,
   "metadata": {},
   "outputs": [
    {
     "data": {
      "image/png": "[encoded data removed]",
      "text/plain": [
       "<Figure size 216x216 with 1 Axes>"
      ]
     },
     "metadata": {
      "needs_background": "light"
     },
     "output_type": "display_data"
    }
   ],
   "source": [
    "plt.figure(1, figsize=(3,3))\n",
    "plt.imshow(Basetest[1,:].reshape(28,28),cmap = plt.cm.gray_r)\n",
    "plt.show()"
   ]
  },
  {
   "cell_type": "code",
   "execution_count": 212,
   "metadata": {},
   "outputs": [],
   "source": [
    "def mlp1def(n,m):\n",
    "    #xavier-initialization\n",
    "    return np.random.uniform(low=-np.sqrt(6/(n+m)),high=np.sqrt(6/(n+m)),size=(m,n+1))\n",
    "\n",
    "def sigmo(v):\n",
    "    np.place(v,v > 100,100)\n",
    "    np.place(v, v < -100, -100)\n",
    "    v2 = np.exp(-2*v)\n",
    "    return (1-v2)/(1+v2)\n",
    "\n",
    "def mlp1run(x,w):\n",
    "    x = np.concatenate((np.ones((x.shape[0],1)),x),axis = 1)\n",
    "    return sigmo(np.matmul(x,w))\n",
    "\n",
    "def mlpclass(y):\n",
    "    return np.argmax(y,axis=1)\n",
    "\n",
    "def compute_score(Label, Label1D):\n",
    "    score = np.sum(np.equal(Label,Label1D))\n",
    "    rate = score/len(Label)\n",
    "    return score,rate\n",
    "\n",
    "def sigmop(v):\n",
    "    return 1-sigmo(v)**2\n",
    "\n",
    "def label2target(c, nb_classes):\n",
    "    nb_examples = len(c)\n",
    "    label_array = -1*np.ones((nb_examples,nb_classes))\n",
    "    for i in range(nb_examples):\n",
    "        label = c[i]\n",
    "        label_array[i,label] = 1\n",
    "    return label_array\n",
    "\n",
    "def mlperror(y, target):\n",
    "    return y - target\n",
    "\n",
    "def sqrerror(error):\n",
    "    return 0.5*np.mean(np.square(error))\n",
    "\n",
    "def mlp1train(x, target, w, lr, it):\n",
    "    x = np.concatenate((np.ones((x.shape[0],1)),x),axis = 1)\n",
    "    sqr_error = np.zeros((it,1))\n",
    "    for iteration in range(it):\n",
    "        v = np.matmul(x,w)\n",
    "        y = sigmo(v)\n",
    "        predictions = mlpclass(y)\n",
    "        error = mlperror(label2target(predictions,10), label2target(target,10))\n",
    "        sqr_error[iteration] = sqrerror(error)\n",
    "        delta = error*sigmop(v)\n",
    "        Qij = np.matmul(x.T,delta)\n",
    "        w = w - lr*Qij       \n",
    "    plt.plot(list(range(it)),sqr_error)\n",
    "    return w"
   ]
  },
  {
   "cell_type": "code",
   "execution_count": 226,
   "metadata": {},
   "outputs": [
    {
     "data": {
      "image/png": "[encoded data removed]",
      "text/plain": [
       "<Figure size 432x288 with 1 Axes>"
      ]
     },
     "metadata": {
      "needs_background": "light"
     },
     "output_type": "display_data"
    }
   ],
   "source": [
    "nb_features = Basetrain.shape[1]\n",
    "nb_classes = len(np.unique(Labeltrain))\n",
    "# Initialization\n",
    "w = mlp1def(nb_features,nb_classes)\n",
    "w = w.T\n",
    "# Training\n",
    "w = mlp1train(Basetrain, Labeltrain, w, 0.000005, 2000)"
   ]
  },
  {
   "cell_type": "code",
   "execution_count": 227,
   "metadata": {},
   "outputs": [
    {
     "name": "stdout",
     "output_type": "stream",
     "text": [
      "Train Accuracy: 0.8333\n"
     ]
    }
   ],
   "source": [
    "y = mlp1run(Basetrain,w)\n",
    "Labels = mlpclass(y)\n",
    "score,rate = compute_score(Labels, Labeltrain)\n",
    "print(\"Train Accuracy: {}\".format(rate))"
   ]
  },
  {
   "cell_type": "code",
   "execution_count": 228,
   "metadata": {},
   "outputs": [
    {
     "name": "stdout",
     "output_type": "stream",
     "text": [
      "Test Accuracy: 0.822\n"
     ]
    }
   ],
   "source": [
    "y = mlp1run(Basetest,w)\n",
    "Labels = mlpclass(y)\n",
    "score,rate = compute_score(Labels, Labeltest)\n",
    "print(\"Test Accuracy: {}\".format(rate))"
   ]
  },
  {
   "cell_type": "code",
   "execution_count": 221,
   "metadata": {},
   "outputs": [],
   "source": [
    "def mlp2def(n, c, m):\n",
    "    \"\"\"\n",
    "        Initialize weights and bias given\n",
    "        n: number of input features\n",
    "        c: size of hidden layer\n",
    "        m: number of classes\n",
    "    \"\"\"\n",
    "    w1 = np.random.uniform(low=-np.sqrt(6/(n+c)),high=np.sqrt(6/(n+c)),size=(n,c))\n",
    "    w2 = np.random.uniform(low=-np.sqrt(6/(c+m)),high=np.sqrt(6/(c+m)),size=(c,m))\n",
    "    b1 = np.ones((c,1))\n",
    "    b2 = np.ones((m,1))\n",
    "    return w1, w2, b1, b2\n",
    "\n",
    "def mlp2run(x,w1,w2,b1,b2):\n",
    "    forward1 = np.matmul(x,w1)+b1.T\n",
    "    forward2 = sigmo(np.matmul(sigmo(forward1),w2)+b2.T)\n",
    "    return forward1 ,forward2\n",
    "\n",
    "def mlp2train(x,target, w1, w2, b1, b2, lr, it):\n",
    "    sqr_error = np.zeros((it,1))\n",
    "    for iteration in range(it):\n",
    "        forward1,forward2 = mlp2run(x,w1,w2,b1,b2)\n",
    "        y = sigmo(forward2)\n",
    "        predictions = mlpclass(y)\n",
    "        error = mlperror(label2target(predictions,10), label2target(target,10))\n",
    "        delta2 = np.multiply(error,sigmop(forward2))\n",
    "        delta1 = np.multiply(np.matmul(delta2,w2.T),sigmop(forward1))\n",
    "        dw2 = np.matmul(forward1.T,delta2)\n",
    "        dw1 = np.matmul(x.T,delta1)\n",
    "        assert(dw2.shape == w2.shape)\n",
    "        assert(dw1.shape == w1.shape)\n",
    "        old_w1 = w1\n",
    "        old_w2 = w2\n",
    "        w1 = w1 - lr*dw1\n",
    "        w2 = w2 - lr*dw2\n",
    "        sqr_error[iteration] = sqrerror(error)\n",
    "    plt.plot(list(range(it)),sqr_error)\n",
    "    return w1,w2,b1,b2"
   ]
  },
  {
   "cell_type": "code",
   "execution_count": 222,
   "metadata": {},
   "outputs": [],
   "source": [
    "# Initialization\n",
    "w1, w2, b1, b2 = mlp2def(nb_features, 512, nb_classes)"
   ]
  },
  {
   "cell_type": "code",
   "execution_count": 223,
   "metadata": {},
   "outputs": [
    {
     "data": {
      "image/png": "[encoded data removed]",
      "text/plain": [
       "<Figure size 432x288 with 1 Axes>"
      ]
     },
     "metadata": {
      "needs_background": "light"
     },
     "output_type": "display_data"
    }
   ],
   "source": [
    "w1,w2,b1,b2 = mlp2train(Basetrain, Labeltrain, w1, w2, b1, b2, 0.000005, 1000)"
   ]
  },
  {
   "cell_type": "code",
   "execution_count": 224,
   "metadata": {},
   "outputs": [
    {
     "name": "stdout",
     "output_type": "stream",
     "text": [
      "Training Accuracy: 0.9287\n"
     ]
    }
   ],
   "source": [
    "_,y = mlp2run(Basetrain,w1,w2,b1,b2)\n",
    "Labels = mlpclass(y)\n",
    "score,rate = compute_score(Labels, Labeltrain)\n",
    "print(\"Training Accuracy: {}\".format(rate))"
   ]
  },
  {
   "cell_type": "code",
   "execution_count": 225,
   "metadata": {},
   "outputs": [
    {
     "name": "stdout",
     "output_type": "stream",
     "text": [
      "Test Accuracy: 0.901\n"
     ]
    }
   ],
   "source": [
    "_,y = mlp2run(Basetest,w1,w2,b1,b2)\n",
    "predictions = mlpclass(y)\n",
    "score,rate = compute_score(predictions, Labeltest)\n",
    "print(\"Test Accuracy: {}\".format(rate))"
   ]
  },
  {
   "cell_type": "code",
   "execution_count": null,
   "metadata": {},
   "outputs": [],
   "source": []
  }
 ],
 "metadata": {
  "kernelspec": {
   "display_name": "Python 3",
   "language": "python",
   "name": "python3"
  },
  "language_info": {
   "codemirror_mode": {
    "name": "ipython",
    "version": 3
   },
   "file_extension": ".py",
   "mimetype": "text/x-python",
   "name": "python",
   "nbconvert_exporter": "python",
   "pygments_lexer": "ipython3",
   "version": "3.7.5"
  }
 },
 "nbformat": 4,
 "nbformat_minor": 2
}
